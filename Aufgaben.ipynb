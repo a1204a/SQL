{
    "metadata": {
        "kernelspec": {
            "name": "SQL",
            "display_name": "SQL",
            "language": "sql"
        },
        "language_info": {
            "name": "sql",
            "version": ""
        }
    },
    "nbformat_minor": 2,
    "nbformat": 4,
    "cells": [
        {
            "cell_type": "markdown",
            "source": [
                "# Aufgaben zum Fitnesscenter"
            ],
            "metadata": {
                "azdata_cell_guid": "68f3fbdf-31c8-4ce9-a3ec-b351c81b91e7"
            },
            "attachments": {}
        },
        {
            "cell_type": "code",
            "source": [
                "-- Aufgabe 1\r\n",
                "USE FitnessCenter;\r\n",
                "SELECT Vorname, Nachname FROM Kunden WHERE Geschlecht = 'w';"
            ],
            "metadata": {
                "azdata_cell_guid": "1ce3e851-fafc-4151-aaee-7011c7fc9625",
                "language": "sql",
                "tags": []
            },
            "outputs": [],
            "execution_count": null
        },
        {
            "cell_type": "code",
            "source": [
                "-- Aufgabe 2\r\n",
                "USE FitnessCenter;\r\n",
                "SELECT PLZ FROM Orte WHERE Ortname = 'Untersiggenthal';"
            ],
            "metadata": {
                "azdata_cell_guid": "c002a1d1-3adb-4fa0-afac-271f536bae28",
                "language": "sql"
            },
            "outputs": [],
            "execution_count": null
        },
        {
            "cell_type": "code",
            "source": [
                "-- Aufgabe 3\r\n",
                "USE FitnessCenter;\r\n",
                "SELECT Ortname FROM Orte WHERE Kanton = 'Zug' ORDER BY Ortname ASC;"
            ],
            "metadata": {
                "azdata_cell_guid": "9ce6db42-3d26-46e3-afcf-17155518e3e6",
                "language": "sql"
            },
            "outputs": [],
            "execution_count": null
        },
        {
            "cell_type": "code",
            "source": [
                "-- Aufgabe 4\r\n",
                "USE FitnessCenter;\r\n",
                "SELECT Ortname, Kanton FROM Orte WHERE Ortname LIKE '%ägeri%';"
            ],
            "metadata": {
                "azdata_cell_guid": "fc325421-3e9f-4006-93ff-0a4a688227d1",
                "language": "sql"
            },
            "outputs": [],
            "execution_count": null
        },
        {
            "cell_type": "code",
            "source": [
                "-- Aufgabe 5\r\n",
                "USE FitnessCenter;\r\n",
                "SELECT Ortname, Kanton FROM Orte WHERE Ortname = 'Pully' OR Ortname = 'Muttenz' OR Ortname = 'Urdorf';"
            ],
            "metadata": {
                "azdata_cell_guid": "33284b4a-b951-4985-890c-f8d664bea3f9",
                "language": "sql"
            },
            "outputs": [],
            "execution_count": null
        },
        {
            "cell_type": "code",
            "source": [
                "-- Aufgabe 6\r\n",
                "USE FitnessCenter;\r\n",
                "SELECT Vorname, Nachname, Krankenkasse FROM Kunden WHERE Krankenkasse = 'Group Mutuel';"
            ],
            "metadata": {
                "azdata_cell_guid": "bc4883fb-66cd-4330-b15a-8dc3e0247e02",
                "language": "sql"
            },
            "outputs": [],
            "execution_count": null
        },
        {
            "cell_type": "code",
            "source": [
                "-- Aufgabe 7\r\n",
                "USE FitnessCenter;\r\n",
                "SELECT Vorname, Nachname FROM Kunden WHERE Vorname LIKE '%a' AND Geschlecht = 'w';"
            ],
            "metadata": {
                "azdata_cell_guid": "46e64405-83be-4ea7-94f1-e8ae92016975",
                "language": "sql"
            },
            "outputs": [],
            "execution_count": null
        },
        {
            "cell_type": "code",
            "source": [
                "-- Aufgabe 8\r\n",
                "USE FitnessCenter;\r\n",
                "SELECT Vorname FROM Mitarbeiter WHERE Nachname = 'Müller';"
            ],
            "metadata": {
                "azdata_cell_guid": "1c96438e-64c1-4764-83bb-7d722540aabd",
                "language": "sql"
            },
            "outputs": [],
            "execution_count": null
        },
        {
            "cell_type": "code",
            "source": [
                "-- Aufgabe 9\r\n",
                "USE FitnessCenter;\r\n",
                "SELECT Vorname, Nachname, Krankenkasse FROM Kunden WHERE Krankenkasse IS NULL;"
            ],
            "metadata": {
                "azdata_cell_guid": "146359b2-c138-4d3f-ae47-db9c38348a90",
                "language": "sql"
            },
            "outputs": [],
            "execution_count": null
        },
        {
            "cell_type": "code",
            "source": [
                "-- Aufgabe 10\r\n",
                "USE FitnessCenter;\r\n",
                "SELECT Ortname FROM Orte WHERE NOT Kanton = 'Zürich' AND NOT Kanton = 'Waadt' AND NOT Kanton = 'Wallis' ORDER BY Ortname ASC;"
            ],
            "metadata": {
                "azdata_cell_guid": "7a621a34-a9fb-4db9-bf8e-28badda05c17",
                "language": "sql"
            },
            "outputs": [],
            "execution_count": null
        },
        {
            "cell_type": "code",
            "source": [
                "-- Aufgabe 11\r\n",
                "USE FitnessCenter;\r\n",
                "SELECT Vorname, Nachname, Geburtsdatum, Krankenkasse FROM Kunden WHERE Geburtsdatum >= 1990 AND NOT Krankenkasse IS NULL;"
            ],
            "metadata": {
                "azdata_cell_guid": "3fa23a34-285a-4bd6-aae5-87bae362d210",
                "language": "sql"
            },
            "outputs": [],
            "execution_count": null
        },
        {
            "cell_type": "code",
            "source": [
                "-- Aufgabe 12\r\n",
                "USE FitnessCenter;\r\n",
                "SELECT Vorname, Nachname, Geburtsdatum FROM Kunden WHERE Geburtsdatum BETWEEN 1960-01-01 AND 1960-12-31;"
            ],
            "metadata": {
                "azdata_cell_guid": "889ae2b8-25a7-461e-a704-b32403864b45",
                "language": "sql"
            },
            "outputs": [],
            "execution_count": null
        },
        {
            "cell_type": "code",
            "source": [
                "-- Aufgabe 13\r\n",
                "USE FitnessCenter;\r\n",
                "SELECT SUM(Monatslohn) AS Totalsumme_Monat FROM Mitarbeiter;\r\n",
                "SELECT SUM(Monatslohn * 12) AS Totalsumme_Jahr FROM Mitarbeiter;"
            ],
            "metadata": {
                "azdata_cell_guid": "4f44a259-6ba8-4128-a656-68e75981c555",
                "language": "sql"
            },
            "outputs": [],
            "execution_count": null
        }
    ]
}