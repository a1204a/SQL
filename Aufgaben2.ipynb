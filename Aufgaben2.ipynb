{
    "metadata": {
        "kernelspec": {
            "name": "SQL",
            "display_name": "SQL",
            "language": "sql"
        },
        "language_info": {
            "name": "sql",
            "version": ""
        }
    },
    "nbformat_minor": 2,
    "nbformat": 4,
    "cells": [
        {
            "cell_type": "markdown",
            "source": [
                "# Aufgaben zur Zugdatenbank"
            ],
            "metadata": {
                "azdata_cell_guid": "c4406181-ecf1-40b8-9b23-986b5007ab7c"
            },
            "attachments": {}
        },
        {
            "cell_type": "markdown",
            "source": [
                "## Simple Aufgaben"
            ],
            "metadata": {
                "azdata_cell_guid": "23af6e2a-e38b-4275-a8f9-cf0e04e3725e"
            },
            "attachments": {}
        },
        {
            "cell_type": "code",
            "source": [
                "-- Aufgabe 1\r\n",
                "USE Zugdatenbank;\r\n",
                "SELECT Name FROM Bahnhoefe WHERE LiegtInKanton = 'Basel Stadt';"
            ],
            "metadata": {
                "azdata_cell_guid": "3bd2d374-df33-4e0c-a14e-095e39fde682",
                "language": "sql"
            },
            "outputs": [],
            "execution_count": null
        },
        {
            "cell_type": "code",
            "source": [
                "-- Aufgabe 2\r\n",
                "USE Zugdatenbank;\r\n",
                "SELECT ZugNr, Start, Ziel, Abfahrt FROM Zuege, Verbindet, Bahnhoefe WHERE LiegtInOrt = 'Basel' AND Abfahrt BETWEEN '14:00' AND '15:00';"
            ],
            "metadata": {
                "azdata_cell_guid": "ec4058d7-0934-4005-827a-be44fd2cf5e5",
                "language": "sql"
            },
            "outputs": [],
            "execution_count": null
        },
        {
            "cell_type": "code",
            "source": [
                "-- Aufgabe 3\r\n",
                "USE Zugdatenbank;\r\n",
                "SELECT COUNT(Gleise) AS Anzahl_Gleise FROM Bahnhoefe WHERE LiegtInOrt = 'Thalwil';"
            ],
            "metadata": {
                "azdata_cell_guid": "7a3ffc5c-b97b-45ad-bf62-f583365f77f6",
                "language": "sql"
            },
            "outputs": [],
            "execution_count": null
        },
        {
            "cell_type": "code",
            "source": [
                "-- Aufgabe 4\r\n",
                "USE Zugdatenbank;\r\n",
                "SELECT SUM(Gleise) AS Total_Gleise FROM Bahnhoefe;"
            ],
            "metadata": {
                "azdata_cell_guid": "cf28b654-894f-48ea-a87d-af5c6a19fc34",
                "language": "sql"
            },
            "outputs": [],
            "execution_count": null
        },
        {
            "cell_type": "code",
            "source": [
                "-- Aufgabe 5\r\n",
                "USE Zugdatenbank;\r\n",
                "SELECT SUM(Gleise) AS Gleise_ZugLuzern FROM Bahnhoefe WHERE LiegtInOrt = 'Zug' AND LiegtInOrt = 'Luzern';"
            ],
            "metadata": {
                "azdata_cell_guid": "d084daeb-3a19-4c7e-b3fe-16ae322a3bd2",
                "language": "sql",
                "tags": []
            },
            "outputs": [],
            "execution_count": null
        },
        {
            "cell_type": "code",
            "source": [
                "-- Aufgabe 6\r\n",
                "USE Zugdatenbank;\r\n",
                "SELECT AVG(Gleise) AS Durchschnitt FROM Bahnhoefe;"
            ],
            "metadata": {
                "azdata_cell_guid": "1ef37b52-2aa0-43ac-b36b-e3d9eb3e6fb1",
                "language": "sql"
            },
            "outputs": [],
            "execution_count": null
        },
        {
            "cell_type": "code",
            "source": [
                "-- Aufgabe 7\r\n",
                "USE Zugdatenbank;\r\n",
                "SELECT MAX(Abfahrt) AS SpaetesteFahrt FROM Verbindet, Bahnhoefe WHERE Name = 'Basel SBB';"
            ],
            "metadata": {
                "azdata_cell_guid": "d252aeb7-bf3e-48e2-8951-c85532cfeee2",
                "language": "sql"
            },
            "outputs": [],
            "execution_count": null
        },
        {
            "cell_type": "code",
            "source": [
                "-- Aufgabe 8\r\n",
                "USE Zugdatenbank;\r\n",
                "SELECT Name, Kanton FROM Staedte WHERE Kanton LIKE '%n';"
            ],
            "metadata": {
                "azdata_cell_guid": "e58709f6-f836-440f-8aa3-856bc02e826a",
                "language": "sql"
            },
            "outputs": [],
            "execution_count": null
        },
        {
            "cell_type": "code",
            "source": [
                "-- Aufgabe 9\r\n",
                "USE Zugdatenbank;\r\n",
                "SELECT Name, Kanton FROM Staedte WHERE Name = Kanton;"
            ],
            "metadata": {
                "azdata_cell_guid": "93ae54d1-3291-4c15-892a-5c7fc9547298",
                "language": "sql"
            },
            "outputs": [],
            "execution_count": null
        },
        {
            "cell_type": "code",
            "source": [
                "-- Aufgabe 10\r\n",
                "USE Zugdatenbank;\r\n",
                "SELECT MAX(Gleise) AS Gleise FROM Bahnhoefe;"
            ],
            "metadata": {
                "azdata_cell_guid": "a7872942-fcdd-4ba2-b7d8-922d31766ba3",
                "language": "sql"
            },
            "outputs": [],
            "execution_count": null
        },
        {
            "cell_type": "code",
            "source": [
                "-- Aufgabe 11\r\n",
                "USE Zugdatenbank;\r\n",
                "SELECT COUNT(Zug) AS Züge FROM Verbindet WHERE Von = 'Olten';"
            ],
            "metadata": {
                "azdata_cell_guid": "a787bd10-6ea3-4641-b516-843249eaf9cd",
                "language": "sql"
            },
            "outputs": [],
            "execution_count": null
        },
        {
            "cell_type": "code",
            "source": [
                "-- Aufgabe 12\r\n",
                "USE Zugdatenbank;\r\n",
                "SELECT COUNT(Zug) AS Züge, Von FROM Verbindet GROUP BY Von;"
            ],
            "metadata": {
                "azdata_cell_guid": "882cd9c9-4eda-484b-85c9-27118eef5eff",
                "language": "sql",
                "tags": []
            },
            "outputs": [],
            "execution_count": null
        },
        {
            "cell_type": "code",
            "source": [
                "-- Aufgabe 13\r\n",
                "USE Zugdatenbank;\r\n",
                "SELECT LiegtInKanton AS Kanton, SUM(Gleise) FROM Bahnhoefe GROUP BY LiegtInKanton;"
            ],
            "metadata": {
                "azdata_cell_guid": "63b3bbaf-d4ec-4ff4-933e-d3ebf1b5baa6",
                "language": "sql"
            },
            "outputs": [],
            "execution_count": null
        },
        {
            "cell_type": "markdown",
            "source": [
                "## Aufgaben für Fortgeschrittene"
            ],
            "metadata": {
                "azdata_cell_guid": "6d0fc594-0bf5-4e31-9e22-e2aaa8a58edd"
            },
            "attachments": {}
        },
        {
            "cell_type": "code",
            "source": [
                "-- Aufgabe 1\r\n",
                "USE Zugdatenbank;\r\n",
                "SELECT Name FROM Bahnhoefe WHERE Gleise = (SELECT MAX(Gleise) FROM Bahnhoefe);"
            ],
            "metadata": {
                "azdata_cell_guid": "170819a6-f78e-43ba-9b18-db6b235231a4",
                "language": "sql",
                "tags": []
            },
            "outputs": [],
            "execution_count": null
        },
        {
            "cell_type": "code",
            "source": [
                "-- Aufgabe 2\r\n",
                "USE Zugdatenbank;\r\n",
                "SELECT Name FROM Bahnhoefe WHERE Gleise < (SELECT AVG(Gleise) FROM Bahnhoefe);"
            ],
            "metadata": {
                "azdata_cell_guid": "b2a6377c-183c-4e15-a947-b6c35ad42d2f",
                "language": "sql"
            },
            "outputs": [],
            "execution_count": null
        },
        {
            "cell_type": "code",
            "source": [
                "-- Aufgabe 3\r\n",
                "USE Zugdatenbank;\r\n",
                "SELECT LiegtInOrt AS Ort, Anzahl_Bahnhoefe FROM (SELECT LiegtInOrt, COUNT(*) AS Anzahl_Bahnhoefe FROM Bahnhoefe GROUP BY LiegtInOrt) AS Bahnhoefe_Sub WHERE Anzahl_Bahnhoefe > 1;"
            ],
            "metadata": {
                "azdata_cell_guid": "08beb29e-4800-47d6-abfb-270728b9098f",
                "language": "sql",
                "tags": []
            },
            "outputs": [],
            "execution_count": null
        },
        {
            "cell_type": "code",
            "source": [
                "-- Aufgabe 4\r\n",
                "USE Zugdatenbank;\r\n",
                "SELECT Zug, Abfahrt FROM Verbindet, (SELECT MAX(Ankunft) AS Späteste_Ankunft FROM Verbindet WHERE Nach = 'Basel SBB' GROUP BY Ankunft) AS Ankunft_1 WHERE Abfahrt > Späteste_Ankunft AND Von = 'Basel SBB';"
            ],
            "metadata": {
                "azdata_cell_guid": "7570f863-2b3e-475b-83ca-17ef0c2fbe8c",
                "language": "sql"
            },
            "outputs": [],
            "execution_count": null
        },
        {
            "cell_type": "code",
            "source": [
                "-- Aufgabe 5\r\n",
                "USE Zugdatenbank;\r\n",
                "SELECT \r\n",
                "    (SELECT DATEDIFF(SECOND, Abfahrt, Ankunft) \r\n",
                "     FROM Verbindet \r\n",
                "     WHERE Zug = 7 AND Von = 'Zürich HB' AND Nach = 'Baden')\r\n",
                "    + \r\n",
                "    (SELECT DATEDIFF(SECOND, Abfahrt, Ankunft) \r\n",
                "     FROM Verbindet \r\n",
                "     WHERE Zug = 7 AND Von = 'Baden' AND Nach = 'Basel SBB')\r\n",
                "    + \r\n",
                "    (SELECT DATEDIFF(SECOND, Abfahrt, Ankunft) \r\n",
                "     FROM Verbindet \r\n",
                "     WHERE Zug = 7 AND Von = 'Basel SBB' AND Nach = 'Basel Bad')\r\n",
                "    AS Fahrtzeit_Seconds,\r\n",
                "\r\n",
                "    (SELECT DATEDIFF(MINUTE, Abfahrt, Ankunft) \r\n",
                "     FROM Verbindet \r\n",
                "     WHERE Zug = 7 AND Von = 'Zürich HB' AND Nach = 'Baden')\r\n",
                "    + \r\n",
                "    (SELECT DATEDIFF(MINUTE, Abfahrt, Ankunft) \r\n",
                "     FROM Verbindet \r\n",
                "     WHERE Zug = 7 AND Von = 'Baden' AND Nach = 'Basel SBB')\r\n",
                "    + \r\n",
                "    (SELECT DATEDIFF(MINUTE, Abfahrt, Ankunft) \r\n",
                "     FROM Verbindet \r\n",
                "     WHERE Zug = 7 AND Von = 'Basel SBB' AND Nach = 'Basel Bad')\r\n",
                "    AS Fahrtzeit_Minutes;"
            ],
            "metadata": {
                "azdata_cell_guid": "0751c875-c986-43e3-9816-4edd9858a20a",
                "language": "sql"
            },
            "outputs": [],
            "execution_count": null
        },
        {
            "cell_type": "markdown",
            "source": [
                "## Aufgaben für Profis"
            ],
            "metadata": {
                "azdata_cell_guid": "4495ab3e-ee61-4c4d-9d64-a36deaf2e2d9"
            },
            "attachments": {}
        },
        {
            "cell_type": "code",
            "source": [
                "-- Aufgabe 1\n",
                "USE FitnessCenter;\n",
                "SELECT Vorname, Nachname, Ortname, Kanton FROM Kunden INNER JOIN Orte ON Kundennummer = OrtId;"
            ],
            "metadata": {
                "azdata_cell_guid": "01cf7af0-3889-4a10-a609-2df17f827767",
                "language": "sql"
            },
            "outputs": [],
            "execution_count": null
        },
        {
            "cell_type": "code",
            "source": [
                "-- Aufgabe 2\r\n",
                "USE FitnessCenter;\r\n",
                "SELECT Mitarbeiter.Vorname AS Mitarbeiter_Vorname, Mitarbeiter.Nachname AS Mitarbeiter_Nachname, Kunden.Vorname AS Kunden_Vorname, Kunden.Nachname AS Kunden_Nachname, Betreuung.Notizen AS Betreuung_Notizen\r\n",
                "FROM Betreuung \r\n",
                "INNER JOIN Mitarbeiter ON Mitarbeiter.Personalnummer = Betreuung.Personalnummer\r\n",
                "INNER JOIN Kunden ON Kunden.Kundennummer = Betreuung.Kundennummer;"
            ],
            "metadata": {
                "azdata_cell_guid": "90fe8c5b-7554-416e-ab93-93b369f46dfd",
                "language": "sql"
            },
            "outputs": [],
            "execution_count": null
        },
        {
            "cell_type": "code",
            "source": [
                "-- Aufgabe 3\r\n",
                "USE Zugdatenbank;\r\n",
                "SELECT Bahnhoefe.Name AS Name_Bahnhof, Bahnhoefe.LiegtInKanton AS Kanton, Verbindet.Nach AS Zug\r\n",
                "FROM Bahnhoefe INNER JOIN Verbindet ON Verbindet.Nach = Bahnhoefe.Name;"
            ],
            "metadata": {
                "azdata_cell_guid": "2acf02ee-b3fa-473a-a078-8232936a1805",
                "language": "sql"
            },
            "outputs": [],
            "execution_count": null
        },
        {
            "cell_type": "code",
            "source": [
                "-- Aufgabe 4\r\n",
                "USE Zugdatenbank;\r\n",
                "SELECT Zuege.ZugNr AS ZugNr, Bahnhoefe.Name AS Abfahrts_Bahnhof, Verbindet.Abfahrt AS Abfahrtzeit, Bahnhoefe.Name AS Ankunfts_Bahnhof, Verbindet.Ankunft AS Ankunftszeit\r\n",
                "FROM Verbindet\r\n",
                "INNER JOIN Zuege ON Zuege.ZugNr = Verbindet.Zug\r\n",
                "INNER JOIN Bahnhoefe ON Bahnhoefe.Name = Verbindet.Von\r\n",
                "WHERE LiegtInKanton = 'Luzern'\r\n",
                "ORDER BY Verbindet.Abfahrt ASC;"
            ],
            "metadata": {
                "azdata_cell_guid": "ed6ae2ad-cea8-4c24-a12b-479237929d18",
                "language": "sql"
            },
            "outputs": [],
            "execution_count": null
        }
    ]
}